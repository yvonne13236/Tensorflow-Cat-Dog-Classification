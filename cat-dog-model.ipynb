{
 "cells": [
  {
   "cell_type": "code",
   "execution_count": 32,
   "metadata": {},
   "outputs": [],
   "source": [
    "# importing libraries\n",
    "import pandas as pd\n",
    "import numpy as np\n",
    "import matplotlib.pyplot as plt\n",
    "import tensorflow as tf\n",
    "import os\n",
    "from tensorflow.keras.preprocessing import image\n",
    "from zipfile import ZipFile "
   ]
  },
  {
   "cell_type": "code",
   "execution_count": 34,
   "metadata": {},
   "outputs": [],
   "source": [
    "# importing libraries for Deep Learning\n",
    "from tensorflow.keras.models import Sequential\n",
    "from tensorflow.keras.layers import Conv2D, MaxPooling2D, Flatten, Dense, Dropout, Activation\n",
    "from tensorflow.keras.preprocessing.image import ImageDataGenerator"
   ]
  },
  {
   "cell_type": "code",
   "execution_count": 35,
   "metadata": {},
   "outputs": [],
   "source": [
    "#Import dataset\n",
    "test_dir=\"C:/Personal/Portfolio/cat-dog-classfication/dogs-cats-images/dataset/test_set\"\n",
    "train_dir=\"C:/Personal/Portfolio/cat-dog-classfication/dogs-cats-images/dataset/training_set\"\n",
    "\n",
    "train_dir_cats = train_dir + '/cats'\n",
    "train_dir_dogs = train_dir + '/dogs'\n",
    "test_dir_cats = test_dir + '/cats'\n",
    "test_dir_dogs = test_dir + '/dogs'"
   ]
  },
  {
   "cell_type": "code",
   "execution_count": 36,
   "metadata": {
    "scrolled": true
   },
   "outputs": [
    {
     "name": "stdout",
     "output_type": "stream",
     "text": [
      "number of cats training images -  4000\n",
      "number of dogs training images -  4000\n",
      "number of cats testing images -  1000\n",
      "number of dogs testing images -  1000\n"
     ]
    }
   ],
   "source": [
    "#get numbers of images\n",
    "print('number of cats training images - ',len(os.listdir(train_dir_cats)))\n",
    "print('number of dogs training images - ',len(os.listdir(train_dir_dogs)))\n",
    "print('number of cats testing images - ',len(os.listdir(test_dir_cats)))\n",
    "print('number of dogs testing images - ',len(os.listdir(test_dir_dogs)))"
   ]
  },
  {
   "cell_type": "code",
   "execution_count": 38,
   "metadata": {},
   "outputs": [
    {
     "name": "stderr",
     "output_type": "stream",
     "text": [
      "Using TensorFlow backend.\n"
     ]
    },
    {
     "name": "stdout",
     "output_type": "stream",
     "text": [
      "Found 8000 images belonging to 2 classes.\n",
      "Found 2000 images belonging to 2 classes.\n"
     ]
    }
   ],
   "source": [
    "from keras.preprocessing.image import ImageDataGenerator\n",
    "\n",
    "train_datagen = ImageDataGenerator(rescale = 1./255)\n",
    "\n",
    "test_datagen = ImageDataGenerator(rescale = 1./255)\n",
    "\n",
    "batch_size=64\n",
    "\n",
    "training_set = train_datagen.flow_from_directory(train_dir,\n",
    "target_size = (100, 100),\n",
    "batch_size = batch_size,\n",
    "color_mode='rgb',\n",
    "class_mode = 'binary',\n",
    "shuffle=True)\n",
    "\n",
    "test_set = test_datagen.flow_from_directory(test_dir,\n",
    "target_size = (100, 100),\n",
    "batch_size = batch_size,\n",
    "color_mode='rgb',\n",
    "class_mode = 'binary')"
   ]
  },
  {
   "cell_type": "code",
   "execution_count": 39,
   "metadata": {},
   "outputs": [],
   "source": [
    "# preparing the layers in the Convolutional Deep Neural Network\n",
    "model = Sequential()\n",
    "model.add(Conv2D(filters = 32, kernel_size = (3, 3), activation = 'relu', input_shape = training_data.image_shape))\n",
    "model.add(MaxPooling2D(pool_size = (2, 2)))\n",
    "model.add(Dropout(rate = 0.3))\n",
    "model.add(Conv2D(filters = 64, kernel_size = (3, 3), activation = 'relu'))\n",
    "model.add(MaxPooling2D(pool_size = (2, 2)))\n",
    "model.add(Dropout(rate = 0.2))\n",
    "model.add(Conv2D(filters = 126, kernel_size = (3, 3), activation = 'relu'))\n",
    "model.add(MaxPooling2D(pool_size = (2, 2)))\n",
    "model.add(Dropout(rate = 0.15))\n",
    "model.add(Flatten())\n",
    "model.add(Dense(units = 32, activation = 'relu'))\n",
    "model.add(Dropout(rate = 0.15))\n",
    "model.add(Dense(units = 64, activation = 'relu'))\n",
    "model.add(Dropout(rate = 0.1))\n",
    "model.add(Dense(units = len(set(training_data.classes)), activation = 'softmax'))\n",
    "model.compile(optimizer = 'adam', loss = 'sparse_categorical_crossentropy', metrics = ['accuracy'])"
   ]
  },
  {
   "cell_type": "code",
   "execution_count": 40,
   "metadata": {},
   "outputs": [
    {
     "name": "stdout",
     "output_type": "stream",
     "text": [
      "Model: \"sequential_1\"\n",
      "_________________________________________________________________\n",
      "Layer (type)                 Output Shape              Param #   \n",
      "=================================================================\n",
      "conv2d_3 (Conv2D)            (None, 62, 62, 32)        896       \n",
      "_________________________________________________________________\n",
      "max_pooling2d_3 (MaxPooling2 (None, 31, 31, 32)        0         \n",
      "_________________________________________________________________\n",
      "dropout_5 (Dropout)          (None, 31, 31, 32)        0         \n",
      "_________________________________________________________________\n",
      "conv2d_4 (Conv2D)            (None, 29, 29, 64)        18496     \n",
      "_________________________________________________________________\n",
      "max_pooling2d_4 (MaxPooling2 (None, 14, 14, 64)        0         \n",
      "_________________________________________________________________\n",
      "dropout_6 (Dropout)          (None, 14, 14, 64)        0         \n",
      "_________________________________________________________________\n",
      "conv2d_5 (Conv2D)            (None, 12, 12, 126)       72702     \n",
      "_________________________________________________________________\n",
      "max_pooling2d_5 (MaxPooling2 (None, 6, 6, 126)         0         \n",
      "_________________________________________________________________\n",
      "dropout_7 (Dropout)          (None, 6, 6, 126)         0         \n",
      "_________________________________________________________________\n",
      "flatten_1 (Flatten)          (None, 4536)              0         \n",
      "_________________________________________________________________\n",
      "dense_3 (Dense)              (None, 32)                145184    \n",
      "_________________________________________________________________\n",
      "dropout_8 (Dropout)          (None, 32)                0         \n",
      "_________________________________________________________________\n",
      "dense_4 (Dense)              (None, 64)                2112      \n",
      "_________________________________________________________________\n",
      "dropout_9 (Dropout)          (None, 64)                0         \n",
      "_________________________________________________________________\n",
      "dense_5 (Dense)              (None, 2)                 130       \n",
      "=================================================================\n",
      "Total params: 239,520\n",
      "Trainable params: 239,520\n",
      "Non-trainable params: 0\n",
      "_________________________________________________________________\n"
     ]
    }
   ],
   "source": [
    "model.summary()"
   ]
  },
  {
   "cell_type": "code",
   "execution_count": 25,
   "metadata": {
    "scrolled": false
   },
   "outputs": [
    {
     "name": "stdout",
     "output_type": "stream",
     "text": [
      "250.0\n"
     ]
    }
   ],
   "source": [
    "print(8000/32)"
   ]
  },
  {
   "cell_type": "code",
   "execution_count": 30,
   "metadata": {},
   "outputs": [
    {
     "data": {
      "text/plain": [
       "250"
      ]
     },
     "execution_count": 30,
     "metadata": {},
     "output_type": "execute_result"
    }
   ],
   "source": [
    "len(training_data)"
   ]
  },
  {
   "cell_type": "code",
   "execution_count": 41,
   "metadata": {},
   "outputs": [
    {
     "name": "stdout",
     "output_type": "stream",
     "text": [
      "WARNING:tensorflow:sample_weight modes were coerced from\n",
      "  ...\n",
      "    to  \n",
      "  ['...']\n",
      "WARNING:tensorflow:sample_weight modes were coerced from\n",
      "  ...\n",
      "    to  \n",
      "  ['...']\n",
      "Train for 125.0 steps, validate for 32.0 steps\n",
      "Epoch 1/25\n",
      "125/125 [==============================] - 63s 507ms/step - loss: 0.6945 - accuracy: 0.5017 - val_loss: 0.6922 - val_accuracy: 0.5781\n",
      "Epoch 2/25\n",
      "125/125 [==============================] - 59s 474ms/step - loss: 0.6893 - accuracy: 0.5410 - val_loss: 0.6820 - val_accuracy: 0.5645\n",
      "Epoch 3/25\n",
      "125/125 [==============================] - 58s 467ms/step - loss: 0.6775 - accuracy: 0.5705 - val_loss: 0.6553 - val_accuracy: 0.6279\n",
      "Epoch 4/25\n",
      "125/125 [==============================] - 59s 472ms/step - loss: 0.6559 - accuracy: 0.6137 - val_loss: 0.6602 - val_accuracy: 0.6318\n",
      "Epoch 5/25\n",
      "125/125 [==============================] - 62s 494ms/step - loss: 0.6377 - accuracy: 0.6378 - val_loss: 0.6146 - val_accuracy: 0.6504\n",
      "Epoch 6/25\n",
      "125/125 [==============================] - 64s 509ms/step - loss: 0.6132 - accuracy: 0.6637 - val_loss: 0.6069 - val_accuracy: 0.6582\n",
      "Epoch 7/25\n",
      "125/125 [==============================] - 60s 476ms/step - loss: 0.5968 - accuracy: 0.6808 - val_loss: 0.6325 - val_accuracy: 0.6621\n",
      "Epoch 8/25\n",
      "125/125 [==============================] - 59s 470ms/step - loss: 0.5807 - accuracy: 0.6960 - val_loss: 0.5845 - val_accuracy: 0.7070\n",
      "Epoch 9/25\n",
      "125/125 [==============================] - 60s 480ms/step - loss: 0.5712 - accuracy: 0.7020 - val_loss: 0.5740 - val_accuracy: 0.7012\n",
      "Epoch 10/25\n",
      "125/125 [==============================] - 60s 480ms/step - loss: 0.5656 - accuracy: 0.7122 - val_loss: 0.5516 - val_accuracy: 0.7236\n",
      "Epoch 11/25\n",
      "125/125 [==============================] - 60s 476ms/step - loss: 0.5378 - accuracy: 0.7268 - val_loss: 0.5597 - val_accuracy: 0.7051\n",
      "Epoch 12/25\n",
      "125/125 [==============================] - 59s 474ms/step - loss: 0.5477 - accuracy: 0.7188 - val_loss: 0.5470 - val_accuracy: 0.7119\n",
      "Epoch 13/25\n",
      "125/125 [==============================] - 61s 487ms/step - loss: 0.5413 - accuracy: 0.7275 - val_loss: 0.5327 - val_accuracy: 0.7432\n",
      "Epoch 14/25\n",
      "125/125 [==============================] - 59s 475ms/step - loss: 0.5190 - accuracy: 0.7460 - val_loss: 0.5270 - val_accuracy: 0.7471\n",
      "Epoch 15/25\n",
      "125/125 [==============================] - 59s 469ms/step - loss: 0.5029 - accuracy: 0.7605 - val_loss: 0.5611 - val_accuracy: 0.7275\n",
      "Epoch 16/25\n",
      "125/125 [==============================] - 60s 481ms/step - loss: 0.4987 - accuracy: 0.7582 - val_loss: 0.4978 - val_accuracy: 0.7461\n",
      "Epoch 17/25\n",
      "125/125 [==============================] - 59s 475ms/step - loss: 0.5020 - accuracy: 0.7548 - val_loss: 0.5591 - val_accuracy: 0.7119\n",
      "Epoch 18/25\n",
      "125/125 [==============================] - 62s 495ms/step - loss: 0.4837 - accuracy: 0.7705 - val_loss: 0.4907 - val_accuracy: 0.7686\n",
      "Epoch 19/25\n",
      "125/125 [==============================] - 61s 488ms/step - loss: 0.4820 - accuracy: 0.7632 - val_loss: 0.5076 - val_accuracy: 0.7559\n",
      "Epoch 20/25\n",
      "125/125 [==============================] - 60s 481ms/step - loss: 0.4730 - accuracy: 0.7735 - val_loss: 0.4626 - val_accuracy: 0.7861\n",
      "Epoch 21/25\n",
      "125/125 [==============================] - 59s 469ms/step - loss: 0.4560 - accuracy: 0.7828 - val_loss: 0.4595 - val_accuracy: 0.7715\n",
      "Epoch 22/25\n",
      "125/125 [==============================] - 62s 492ms/step - loss: 0.4430 - accuracy: 0.7928 - val_loss: 0.5207 - val_accuracy: 0.7646\n",
      "Epoch 23/25\n",
      "125/125 [==============================] - 61s 486ms/step - loss: 0.4435 - accuracy: 0.7897 - val_loss: 0.4930 - val_accuracy: 0.7764\n",
      "Epoch 24/25\n",
      "125/125 [==============================] - 58s 466ms/step - loss: 0.4589 - accuracy: 0.7865 - val_loss: 0.4787 - val_accuracy: 0.7773\n",
      "Epoch 25/25\n",
      "125/125 [==============================] - 59s 473ms/step - loss: 0.4503 - accuracy: 0.7890 - val_loss: 0.4989 - val_accuracy: 0.7686\n"
     ]
    }
   ],
   "source": [
    "#fit the model\n",
    "#You can set steps per epoch equal to num_samples // batch_size, which is a typical choice.\n",
    "fitted_model=model.fit_generator(training_data,steps_per_epoch=np.ceil(training_data.samples/batch_size),\n",
    "                                 epochs=25,validation_data=testing_data,validation_steps=np.ceil(testing_data.samples/batch_size))"
   ]
  },
  {
   "cell_type": "code",
   "execution_count": 42,
   "metadata": {},
   "outputs": [
    {
     "name": "stdout",
     "output_type": "stream",
     "text": [
      "dict_keys(['loss', 'accuracy', 'val_loss', 'val_accuracy'])\n"
     ]
    }
   ],
   "source": [
    "print(fitted_model.history.keys())"
   ]
  },
  {
   "cell_type": "code",
   "execution_count": 44,
   "metadata": {},
   "outputs": [
    {
     "data": {
      "image/png": "[encoded data removed]",
      "text/plain": [
       "<Figure size 432x288 with 1 Axes>"
      ]
     },
     "metadata": {
      "needs_background": "light"
     },
     "output_type": "display_data"
    }
   ],
   "source": [
    "plt.plot(fitted_model.history['accuracy'])\n",
    "plt.plot(fitted_model.history['val_accuracy'])\n",
    "plt.title('model accuracy')\n",
    "plt.ylabel('accuracy')\n",
    "plt.xlabel('epoch')\n",
    "plt.legend(['train', 'test'], loc='upper left')\n",
    "plt.show()"
   ]
  },
  {
   "cell_type": "code",
   "execution_count": 45,
   "metadata": {},
   "outputs": [
    {
     "data": {
      "image/png": "[encoded data removed]",
      "text/plain": [
       "<Figure size 432x288 with 1 Axes>"
      ]
     },
     "metadata": {
      "needs_background": "light"
     },
     "output_type": "display_data"
    }
   ],
   "source": [
    "# summarize history for loss\n",
    "plt.plot(fitted_model.history['loss'])\n",
    "plt.plot(fitted_model.history['val_loss'])\n",
    "plt.title('model loss')\n",
    "plt.ylabel('loss')\n",
    "plt.xlabel('epoch')\n",
    "plt.legend(['train', 'test'], loc='upper left')\n",
    "plt.show()"
   ]
  },
  {
   "cell_type": "code",
   "execution_count": 46,
   "metadata": {},
   "outputs": [
    {
     "data": {
      "text/plain": [
       "<matplotlib.legend.Legend at 0x1bd27017bc8>"
      ]
     },
     "execution_count": 46,
     "metadata": {},
     "output_type": "execute_result"
    },
    {
     "data": {
      "image/png": "[encoded data removed]",
      "text/plain": [
       "<Figure size 432x288 with 1 Axes>"
      ]
     },
     "metadata": {
      "needs_background": "light"
     },
     "output_type": "display_data"
    }
   ],
   "source": [
    "# plotting accuracy and validation accuracy\n",
    "accuracy = fitted_model.history['accuracy']\n",
    "plt.plot(range(len(accuracy)), accuracy, 'bo', label = 'accuracy')\n",
    "plt.legend()"
   ]
  },
  {
   "cell_type": "code",
   "execution_count": 47,
   "metadata": {},
   "outputs": [],
   "source": [
    "# testing the model\n",
    "def testing_image(image_directory):\n",
    "    test_image = image.load_img(image_directory, target_size = (64, 64))\n",
    "    test_image = image.img_to_array(test_image)\n",
    "    test_image = np.expand_dims(test_image, axis = 0)\n",
    "    result = model.predict(x = test_image)\n",
    "    print(result)\n",
    "    if result[0][0]  == 1:\n",
    "        prediction = 'Dog'\n",
    "    else:\n",
    "        prediction = 'Cat'\n",
    "    return prediction"
   ]
  },
  {
   "cell_type": "code",
   "execution_count": 48,
   "metadata": {},
   "outputs": [
    {
     "name": "stdout",
     "output_type": "stream",
     "text": [
      "[[0. 1.]]\n",
      "Cat\n"
     ]
    }
   ],
   "source": [
    "print(testing_image(test_dir + '/cats/cat.4003.jpg'))"
   ]
  }
 ],
 "metadata": {
  "kernelspec": {
   "display_name": "Python 3",
   "language": "python",
   "name": "python3"
  },
  "language_info": {
   "codemirror_mode": {
    "name": "ipython",
    "version": 3
   },
   "file_extension": ".py",
   "mimetype": "text/x-python",
   "name": "python",
   "nbconvert_exporter": "python",
   "pygments_lexer": "ipython3",
   "version": "3.7.4"
  }
 },
 "nbformat": 4,
 "nbformat_minor": 2
}
